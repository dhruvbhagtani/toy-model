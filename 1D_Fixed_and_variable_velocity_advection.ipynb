{
 "cells": [
  {
   "cell_type": "markdown",
   "id": "alone-puzzle",
   "metadata": {},
   "source": [
    "# Test 1"
   ]
  },
  {
   "cell_type": "markdown",
   "id": "charged-worthy",
   "metadata": {},
   "source": [
    "Here, we describe a relatively difficult aspect of the Navier-Stoke's equation: advection. We perform a simple experiment - There is a 1D domain with a sine curve to be advected. We first consider u as a tracer and advect it with a constant velocity a, and then use the full non-linear convective term. The boundaries have Neumann boundary condition ($\\frac{\\partial u}{\\partial x} =  0$).The equation we use are laid down below:\n",
    "\n",
    "$$\\frac{\\partial (u_m h_m)}{\\partial t} + a \\frac{\\partial (u_m h_m)}{\\partial x} = 0,$$\n",
    "$$\\frac{\\partial (u_m h_m)}{\\partial t} + \\frac{\\partial (u_m u_m h_m)}{\\partial x} = 0.$$\n",
    "\n",
    "The results for constant advective speed are: We get stable advection, but only for a certain combination of advective speed and finite difference schemes. If a is positive(negative), we need backward(forward) difference.\n",
    "\n",
    "The results for non-linear equation are: We get unstable convection for forward, backward and central differences, and for all values of spatial and temporal resolutions."
   ]
  },
  {
   "cell_type": "code",
   "execution_count": 1,
   "id": "adverse-somerset",
   "metadata": {},
   "outputs": [],
   "source": [
    "import numpy as np\n",
    "import matplotlib.pyplot as plt\n",
    "import sys"
   ]
  },
  {
   "cell_type": "code",
   "execution_count": null,
   "id": "complex-talent",
   "metadata": {},
   "outputs": [],
   "source": [
    "Lx = 100\n",
    "nx = 50\n",
    "dx = Lx/nx\n",
    "g = 9.81\n",
    "rho0 = 1025\n",
    "\n",
    "xu_ocean = np.linspace(0,Lx,nx,dtype = float)"
   ]
  },
  {
   "cell_type": "code",
   "execution_count": null,
   "id": "enabling-degree",
   "metadata": {},
   "outputs": [],
   "source": [
    "def partial_x(f,dx):\n",
    "    dfdx = 1/(dx) * (f[1:nx-1] - f[0:nx-2])  #Backward differerence, stable for positive advection velocity\n",
    "    #dfdx = 1/(2*dx) *(f[2:nx] - f[0:nx-2])\n",
    "    return dfdx\n",
    "\n",
    "def adv_x_Euler(f1,hm_old,hm_new):\n",
    "    a = 0.5 #Speed of advection\n",
    "    #f3 = -(1/hm_new[1:nx-1])*partial_x(hm_old*f1**2,dx)\n",
    "    f3 = -(1/hm_new[1:nx-1])*a*partial_x(hm_old*f1,dx)\n",
    "    return f3"
   ]
  },
  {
   "cell_type": "code",
   "execution_count": null,
   "id": "commercial-cosmetic",
   "metadata": {},
   "outputs": [],
   "source": [
    "MLD_0 = -150*np.ones(nx)\n",
    "\n",
    "um_old = np.sin(np.pi*xu_ocean/(2*Lx) + np.pi/4) - 0.5\n",
    "um_new = np.zeros(nx)\n",
    "hm_old = -MLD_0\n",
    "hm_new = hm_old\n",
    "\n",
    "t_start = 0\n",
    "t_end = 36\n",
    "dt = 2\n",
    "for t in np.arange(t_start,t_end,dt):\n",
    "    um_new[1:nx-1] = um_old[1:nx-1] + dt*adv_x_Euler(um_old,hm_old,hm_new)\n",
    "    \n",
    "    um_new[0] = um_new[1]\n",
    "    um_new[-1] = um_new[-2]\n",
    "    um_old = um_new"
   ]
  },
  {
   "cell_type": "markdown",
   "id": "interracial-publisher",
   "metadata": {},
   "source": [
    "# Test 2"
   ]
  },
  {
   "cell_type": "markdown",
   "id": "returning-james",
   "metadata": {},
   "source": [
    "The previous experiment showed that we cannot use the central difference scheme for advection at all. This makes our scheme, at best, a first-order scheme. Can we do something to increase our accuracy by having the second-order sheme like before, and introduce a damping term to cancel the numerical oscillations introduced by the second-order scheme? It turns out that the answer for this question is a resounding YES! We introduce a second order dissipative term and modify our governing equation in the following manner:\n",
    "\n",
    "$$\\frac{\\partial (u_m h_m)}{\\partial t} + a \\frac{\\partial (u_m h_m)}{\\partial x} = \\nu \\nabla^2 (u_m h_m),$$\n",
    "\n",
    "where $\\nu$ is the kinematic viscosity of the fluid. For this test, we have a constant advective velocity a, and $u_m$ is assumed to be a tracer in the domain. We find that for a specific $dt$ and $dx$, there is a unique $\\nu$ that completely nullifies the unstable oscillations introduced by the central-order difference scheme."
   ]
  },
  {
   "cell_type": "code",
   "execution_count": 46,
   "id": "legitimate-bathroom",
   "metadata": {},
   "outputs": [],
   "source": [
    "Lx = 100\n",
    "nx = 50\n",
    "dx = Lx/nx\n",
    "g = 9.81\n",
    "rho0 = 1025\n",
    "\n",
    "xu_ocean = np.linspace(0,Lx,nx,dtype = float)"
   ]
  },
  {
   "cell_type": "code",
   "execution_count": 47,
   "id": "revised-garlic",
   "metadata": {},
   "outputs": [],
   "source": [
    "def partial_x(f,dx):\n",
    "    #dfdx = 1/(dx) * (f[1:nx-1] - f[0:nx-2])  #Backward differerence, stable for positive advection velocity\n",
    "    dfdx = 1/(2*dx) *(f[2:nx] - f[0:nx-2])\n",
    "    return dfdx\n",
    "\n",
    "def adv_x_Euler(f1,hm_old,hm_new):\n",
    "    a = 0.25 #Speed of advection\n",
    "    #f3 = -(1/hm_new[1:nx-1])*partial_x(hm_old*f1**2,dx)\n",
    "    f3 = -(1/hm_new[1:nx-1])*a*partial_x(hm_old*f1,dx)\n",
    "    return f3\n",
    "\n",
    "def diff_Euler(um_old,dx):\n",
    "    f3 = (um_old[2:nx] - 2*um_old[1:nx-1] + um_old[0:nx-2])/(dx**2)\n",
    "    return f3"
   ]
  },
  {
   "cell_type": "code",
   "execution_count": 48,
   "id": "korean-estimate",
   "metadata": {},
   "outputs": [],
   "source": [
    "MLD_0 = -150*np.ones(nx)\n",
    "nu_x = 0.125\n",
    "\n",
    "um_old = np.sin(np.pi*xu_ocean/(2*Lx) + np.pi/4) - 0.5\n",
    "um_new = np.zeros(nx)\n",
    "hm_old = -MLD_0\n",
    "hm_new = hm_old\n",
    "\n",
    "t_start = 0\n",
    "t_end = 40\n",
    "dt = 1\n",
    "for t in np.arange(t_start,t_end,dt):\n",
    "    um_new[1:nx-1] = um_old[1:nx-1] + dt*adv_x_Euler(um_old,hm_old,hm_new) + dt*nu_x*diff_Euler(um_old,dx)\n",
    "    \n",
    "    um_new[0] = um_new[1]\n",
    "    um_new[-1] = um_new[-2]\n",
    "    um_old = um_new"
   ]
  },
  {
   "cell_type": "code",
   "execution_count": 49,
   "id": "sapphire-cross",
   "metadata": {},
   "outputs": [
    {
     "data": {
      "text/plain": [
       "[<matplotlib.lines.Line2D at 0x7f80f2a38310>]"
      ]
     },
     "execution_count": 49,
     "metadata": {},
     "output_type": "execute_result"
    },
    {
     "data": {
      "image/png": "[encoded data removed]",
      "text/plain": [
       "<Figure size 432x288 with 1 Axes>"
      ]
     },
     "metadata": {
      "needs_background": "light"
     },
     "output_type": "display_data"
    }
   ],
   "source": [
    "plt.plot(xu_ocean,um_new)"
   ]
  },
  {
   "cell_type": "code",
   "execution_count": 15,
   "id": "moving-short",
   "metadata": {},
   "outputs": [
    {
     "data": {
      "text/plain": [
       "[<matplotlib.lines.Line2D at 0x7f80f174f160>]"
      ]
     },
     "execution_count": 15,
     "metadata": {},
     "output_type": "execute_result"
    },
    {
     "data": {
      "image/png": "[encoded data removed]",
      "text/plain": [
       "<Figure size 432x288 with 1 Axes>"
      ]
     },
     "metadata": {
      "needs_background": "light"
     },
     "output_type": "display_data"
    }
   ],
   "source": [
    "plt.plot(xu_ocean,np.sin(np.pi*xu_ocean/(2*Lx) + np.pi/4) - 0.5)"
   ]
  },
  {
   "cell_type": "markdown",
   "id": "prostate-correlation",
   "metadata": {},
   "source": [
    "# Test 3"
   ]
  },
  {
   "cell_type": "markdown",
   "id": "earned-garage",
   "metadata": {},
   "source": [
    "The last test of this notebook solves for an advection equation with non-linear terms, i.e., a variable advection speed. The equation is given by:\n",
    "\n",
    "$$\\frac{\\partial u}{\\partial t} + u \\frac{\\partial u}{\\partial x} = 0$$. \n",
    "\n",
    "We try something which we know is supposed to fail - the forward in time, central in space finite difference scheme. But, we deliberately add a dissipation term to this equation:\n",
    "$$\\frac{\\partial u}{\\partial t} + u \\frac{\\partial u}{\\partial x} = \\nu \\frac{\\partial^2 u}{\\partial x^2},$$\n",
    "which does two things: (a) It dissipates the unnecessary oscillations induced by the central differene scheme, and (ii) It diffuses velocity, and hence, energy in the domain.\n",
    "\n",
    "The results are quite positive: We get non-linear advection along with some artificial oscillations initially, which is balanced by the dissipation term, and towards the end, the effects of diffusion can be seen clearly with a constant velocity over the domain."
   ]
  },
  {
   "cell_type": "code",
   "execution_count": 98,
   "id": "color-belle",
   "metadata": {},
   "outputs": [],
   "source": [
    "Lx = 100\n",
    "nx = 50\n",
    "dx = Lx/nx\n",
    "g = 9.81\n",
    "rho0 = 1025\n",
    "\n",
    "xu_ocean = np.linspace(0,Lx,nx,dtype = float)"
   ]
  },
  {
   "cell_type": "code",
   "execution_count": 99,
   "id": "japanese-gothic",
   "metadata": {},
   "outputs": [],
   "source": [
    "def partial_x(f,dx):\n",
    "    #dfdx = 1/(dx) * (f[1:nx-1] - f[0:nx-2])  #Backward differerence, stable for positive advection velocity\n",
    "    dfdx = 1/(2*dx) *(f[2:nx] - f[0:nx-2])\n",
    "    return dfdx\n",
    "\n",
    "def adv_x_Euler(f1,hm_old,hm_new):\n",
    "    a = 0.25 #Speed of advection\n",
    "    f3 = -(1/hm_new[1:nx-1])*partial_x(hm_old*f1**2,dx)\n",
    "    #f3 = -(1/hm_new[1:nx-1])*a*partial_x(hm_old*f1,dx)\n",
    "    return f3\n",
    "\n",
    "def diff_Euler(um_old,dx):\n",
    "    f3 = (um_old[2:nx] - 2*um_old[1:nx-1] + um_old[0:nx-2])/(dx**2)\n",
    "    return f3"
   ]
  },
  {
   "cell_type": "code",
   "execution_count": 252,
   "id": "unsigned-pointer",
   "metadata": {},
   "outputs": [],
   "source": [
    "MLD_0 = -150*np.ones(nx)\n",
    "nu_x = 4*np.ones(nx-2)\n",
    "\n",
    "um_old = np.sin(np.pi*xu_ocean/(0.5*Lx) + np.pi/4) + 1.2\n",
    "um_new = np.zeros(nx)\n",
    "hm_old = -MLD_0\n",
    "hm_new = hm_old\n",
    "\n",
    "t_start = 0\n",
    "t_end = 48\n",
    "dt = 0.5\n",
    "for t in np.arange(t_start,t_end,dt):\n",
    "    um_new[1:nx-1] = um_old[1:nx-1] + dt*adv_x_Euler(um_old,hm_old,hm_new) + dt*nu_x*diff_Euler(um_old,dx)\n",
    "    \n",
    "    um_new[0] = um_new[1]\n",
    "    um_new[-1] = um_new[-2]\n",
    "    um_old = um_new"
   ]
  },
  {
   "cell_type": "code",
   "execution_count": 253,
   "id": "future-probability",
   "metadata": {},
   "outputs": [
    {
     "data": {
      "text/plain": [
       "[<matplotlib.lines.Line2D at 0x7f80d9f2d910>]"
      ]
     },
     "execution_count": 253,
     "metadata": {},
     "output_type": "execute_result"
    },
    {
     "data": {
      "image/png": "[encoded data removed]",
      "text/plain": [
       "<Figure size 432x288 with 1 Axes>"
      ]
     },
     "metadata": {
      "needs_background": "light"
     },
     "output_type": "display_data"
    }
   ],
   "source": [
    "plt.plot(xu_ocean,um_old)"
   ]
  },
  {
   "cell_type": "markdown",
   "id": "adjustable-memorabilia",
   "metadata": {},
   "source": [
    "An important question arises from this analysis - If our answer is correct, we should expect constant velocity in the ocean as well, but we clearly don't. Why?\n",
    "\n",
    "The answer to this question is simple: The ocean isn't governed by this equation, it has a lot of other terms like the Coriolis, wind stress and pressure terms, which all lead to a non-uniformity/non-homogenity of tracers, velocities and other measurable quantities of the ocean. "
   ]
  },
  {
   "cell_type": "code",
   "execution_count": null,
   "id": "close-equation",
   "metadata": {},
   "outputs": [],
   "source": []
  }
 ],
 "metadata": {
  "kernelspec": {
   "display_name": "Python 3",
   "language": "python",
   "name": "python3"
  },
  "language_info": {
   "codemirror_mode": {
    "name": "ipython",
    "version": 3
   },
   "file_extension": ".py",
   "mimetype": "text/x-python",
   "name": "python",
   "nbconvert_exporter": "python",
   "pygments_lexer": "ipython3",
   "version": "3.8.5"
  }
 },
 "nbformat": 4,
 "nbformat_minor": 5
}
