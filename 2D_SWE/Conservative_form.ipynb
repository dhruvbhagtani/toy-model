{
 "cells": [
  {
   "cell_type": "markdown",
   "id": "6ca18a5e-3cca-419b-884d-4a019ba99726",
   "metadata": {},
   "source": [
    "We move on to the conservative form of 2D SWE. The staggered grid is much more stable, and even the Euler explicit scheme is stable on a staggered grid. Usually, the conservative form of any set of equations is found to be more stable, as it is able to handle shocks too. For the present case, the conservative equations are:\n",
    "\n",
    "$$ \\frac{\\partial U}{\\partial t} + \\frac{(U^2/h)}{\\partial x} + \\frac{(UV/h)}{\\partial y} - fV = - gh \\frac{\\partial h}{\\partial x} $$\n",
    "\n",
    "$$ \\frac{\\partial V}{\\partial t} + \\frac{(UV/h)}{\\partial x} + \\frac{(V^2/h)}{\\partial y} + fU = - gh \\frac{\\partial h}{\\partial y} $$\n",
    "\n",
    "$$ \\frac{\\partial h}{\\partial t} + \\frac{\\partial U}{\\partial x} + \\frac{\\partial V}{\\partial y} = 0 $$"
   ]
  },
  {
   "cell_type": "code",
   "execution_count": 1,
   "id": "01611b2e-2b0e-4e45-8cfd-0f28e85122ad",
   "metadata": {},
   "outputs": [],
   "source": [
    "import os\n",
    "import sys\n",
    "import numpy as np\n",
    "import matplotlib.pyplot as plt\n",
    "from IPython.display import Video\n",
    "from matplotlib import animation\n",
    "from mpl_toolkits import mplot3d"
   ]
  },
  {
   "cell_type": "code",
   "execution_count": 2,
   "id": "732f37f5-1256-4446-bf73-d40554cc9537",
   "metadata": {},
   "outputs": [],
   "source": [
    "nb_dir = os.path.split(os.getcwd())[0]\n",
    "if nb_dir not in sys.path:\n",
    "    sys.path.append(nb_dir)\n",
    "\n",
    "import Euler.Periodic_2D as elr"
   ]
  },
  {
   "cell_type": "markdown",
   "id": "c9af0a82-0edb-4676-89c6-475cc9c3df92",
   "metadata": {},
   "source": [
    "## Euler explicit scheme and unstaggered grid"
   ]
  },
  {
   "cell_type": "code",
   "execution_count": 3,
   "id": "8fd004d9-9842-4589-9b68-bc57b13067a6",
   "metadata": {},
   "outputs": [],
   "source": [
    "#Defining constants\n",
    "\n",
    "g = 9.81\n",
    "r0 = 6.378*10**6\n",
    "day = 24*60*60\n",
    "omega = 2*np.pi / day\n",
    "f = 2*omega*np.sin(np.deg2rad(30))"
   ]
  },
  {
   "cell_type": "code",
   "execution_count": 4,
   "id": "236e75c2-f9e7-48d3-8c49-46291fa58f01",
   "metadata": {},
   "outputs": [],
   "source": [
    "Lx, Ly = 6, 6\n",
    "nx, ny = 100, 100\n",
    "dx, dy = Lx/nx, Ly/ny\n",
    "\n",
    "x = np.linspace(-Lx/2, Lx/2, nx+1, dtype = float)\n",
    "y = np.linspace(-Ly/2, Ly/2, ny+1, dtype = float)\n",
    "X, Y = np.meshgrid(x, y)"
   ]
  },
  {
   "cell_type": "code",
   "execution_count": 5,
   "id": "f6f79ca2-ba52-4284-84c4-7b16503f78c8",
   "metadata": {},
   "outputs": [],
   "source": [
    "# Boundary conditions\n",
    "\n",
    "def periodic_BC(u, v, h):\n",
    "    u[0, :] = u[-2, :]\n",
    "    u[-1, :] = u[1, :]\n",
    "    u[:, 0] = u[:, -2]\n",
    "    u[:, -1] = u[:, 1]\n",
    "    \n",
    "    v[:, 0] = v[:, -2]\n",
    "    v[:, -1] = v[:, 1]\n",
    "    v[0, :] = v[-2, :]\n",
    "    v[-1, :] = v[1, :]\n",
    "    \n",
    "    h[0, :] = h[-2, :]\n",
    "    h[-1, :] = h[1, :]\n",
    "    h[:, 0] = h[:, -2]\n",
    "    h[:, -1] = h[:, 1]\n",
    "    \n",
    "    return (u, v, h)"
   ]
  },
  {
   "cell_type": "code",
   "execution_count": 6,
   "id": "bf8dea6c-479d-4adf-a3fd-bb8ef58f56af",
   "metadata": {},
   "outputs": [],
   "source": [
    "U_old = np.zeros((nx+1, ny+1))\n",
    "U_new = np.zeros((nx+1, ny+1))\n",
    "\n",
    "V_old = np.zeros((nx+1, ny+1))\n",
    "V_new = np.zeros((nx+1, ny+1))\n",
    "\n",
    "h_old = 1 + 0.01*np.exp(-10*(X**2 + Y**2))\n",
    "h_new = np.zeros((nx+1, ny+1))\n",
    "\n",
    "t_start = 0\n",
    "t_end = 10\n",
    "dt = 0.01\n",
    "count = 0\n",
    "\n",
    "# Needed to create animations\n",
    "U_data = np.zeros(((nx+1, ny+1, int(t_end/dt) + 1)))\n",
    "V_data = np.zeros(((nx+1, ny+1, int(t_end/dt) + 1)))\n",
    "h_data = np.zeros(((nx+1, ny+1, int(t_end/dt) + 1)))\n",
    "\n",
    "for t in np.arange(t_start,t_end,dt):\n",
    "    \n",
    "    # Governing equations for interior points\n",
    "    U_new[1:nx, 1:ny] = U_old[1:nx, 1:ny] - dt*elr.partial_x_cd(U_old**2/h_old, dx, nx)[1:nx, 1:ny] - dt*elr.partial_y_cd(\n",
    "        U_old*V_old/h_old, dy, nx)[1:nx, 1:ny] + dt*f*V_old[1:nx, 1:ny] - 0.5*dt*g*elr.partial_x_cd(h_old**2, dx, nx)[1:nx, 1:ny]\n",
    "    V_new[1:nx, 1:nx] = V_old[1:nx, 1:ny] - dt*elr.partial_x_cd(U_old*V_old/h_old, dx, nx)[1:nx, 1:ny] - dt*elr.partial_y_cd(\n",
    "        V_old**2/h_old, dy, ny)[1:nx, 1:ny] - dt*f*U_old[1:nx, 1:ny] - 0.5*dt*g*elr.partial_y_cd(h_old**2, dy, ny)[1:nx, 1:ny]\n",
    "    h_new[1:nx, 1:ny] = h_old[1:nx, 1:ny] - dt*elr.partial_x_cd(U_old, dx, nx)[1:nx, 1:ny] - dt*elr.partial_y_cd(V_old, dy, ny)[1:nx, 1:ny]\n",
    "    \n",
    "    periodic_BC(U_new, V_new, h_new)\n",
    "    \n",
    "    U_data[:, :, count] = U_new\n",
    "    V_data[:, :, count] = V_new\n",
    "    h_data[:, :, count] = h_new\n",
    "    \n",
    "    h_old = h_new\n",
    "    U_old = U_new\n",
    "    V_old = V_new\n",
    "    \n",
    "    count = count + 1"
   ]
  },
  {
   "cell_type": "code",
   "execution_count": 7,
   "id": "aac61e5c-51cc-48e9-953b-78b8d0f3234c",
   "metadata": {},
   "outputs": [
    {
     "data": {
      "text/plain": [
       "<matplotlib.colorbar.Colorbar at 0x7fbc39fafc10>"
      ]
     },
     "execution_count": 7,
     "metadata": {},
     "output_type": "execute_result"
    },
    {
     "data": {
      "image/png": "[encoded data removed]",
      "text/plain": [
       "<Figure size 648x504 with 2 Axes>"
      ]
     },
     "metadata": {
      "needs_background": "light"
     },
     "output_type": "display_data"
    }
   ],
   "source": [
    "plt.figure(figsize = (9, 7))\n",
    "plt.contourf(X, Y, h_new, levels = np.linspace(0.996, 1.004, 21), cmap = 'RdBu')\n",
    "plt.colorbar()"
   ]
  },
  {
   "cell_type": "code",
   "execution_count": 8,
   "id": "5009dd82-a806-4d0b-85a9-cf97dbc524ed",
   "metadata": {},
   "outputs": [
    {
     "data": {
      "text/html": [
       "<video src=\"Videos/Unst_EE_Cons_hm.mp4\" controls  >\n",
       "      Your browser does not support the <code>video</code> element.\n",
       "    </video>"
      ],
      "text/plain": [
       "<IPython.core.display.Video object>"
      ]
     },
     "execution_count": 8,
     "metadata": {},
     "output_type": "execute_result"
    }
   ],
   "source": [
    "fig,ax = plt.subplots(figsize = (9,7))\n",
    "\n",
    "def update_fig(i):\n",
    "    \n",
    "    plt.clf()\n",
    "    plt.title('Wave height for time = ' + str(dt*i*10))\n",
    "    p1 = plt.contourf(X, Y, h_data[:,:,i*10], levels = np.linspace(0.998, 1.002, 21), cmap = 'RdBu')\n",
    "    plt.colorbar()\n",
    "    plt.xlabel('x')\n",
    "    plt.ylabel('y')\n",
    "    return p1\n",
    "\n",
    "num_frames = int(t_end/dt/10)\n",
    "anim = animation.FuncAnimation(fig, update_fig, frames = num_frames, blit = False)\n",
    "anim.save('Videos/Unst_EE_Cons_hm.mp4',writer = 'ffmpeg',fps = 8)\n",
    "\n",
    "plt.close(anim._fig)\n",
    "\n",
    "Video('Videos/Unst_EE_Cons_hm.mp4')"
   ]
  },
  {
   "cell_type": "markdown",
   "id": "0f877ac2-406b-476a-99d7-57bb0e55e47b",
   "metadata": {},
   "source": [
    "The Euler explicit case works okay for the unstaggered grid, as long as it hasn't reached the boundaries. After that, spurious oscillations start to occur, and the animation shows these checkerboard patterns. These patterns are a classical problem in fluid mechanics, and is most easily resolved by using a staggered grid. "
   ]
  },
  {
   "cell_type": "markdown",
   "id": "b6ec3619-2703-4817-a25b-fcb2da6f323e",
   "metadata": {},
   "source": [
    "## Euler explicit scheme and staggered grid"
   ]
  },
  {
   "cell_type": "markdown",
   "id": "e0931c96-e637-45f6-bad8-9ee69a74d17d",
   "metadata": {},
   "source": [
    "We use the following 2D staggered grid:\n",
    "\n",
    "     ----V---- ----V---- ----V----\n",
    "    |    |    |    |    |    |    |\n",
    "    U----h----U----h----U----h----U\n",
    "    |    |    |    |    |    |    |\n",
    "     ----V---- ----V---- ----V----\n",
    "    |    |    |    |    |    |    |\n",
    "    U----h----U----h----U----h----U\n",
    "    |    |    |    |    |    |    |\n",
    "     ----V---- ----V---- ----V----\n",
    "    |    |    |    |    |    |    |\n",
    "    U----h----U----h----U----h----U\n",
    "    |    |    |    |    |    |    |\n",
    "     ----V---- ----V---- ----V----"
   ]
  },
  {
   "cell_type": "code",
   "execution_count": 9,
   "id": "9819e070-136d-4592-9a9f-03682081a1b6",
   "metadata": {},
   "outputs": [],
   "source": [
    "#Defining constants\n",
    "\n",
    "g = 9.81\n",
    "r0 = 6.378*10**6\n",
    "day = 24*60*60\n",
    "omega = 2*np.pi / day\n",
    "f = 2*omega*np.sin(np.deg2rad(30))"
   ]
  },
  {
   "cell_type": "code",
   "execution_count": 10,
   "id": "5a0b015a-8579-434b-96ca-9069994ece8a",
   "metadata": {},
   "outputs": [],
   "source": [
    "Lx, Ly = 6, 6\n",
    "nx, ny = 100, 100\n",
    "dx, dy = Lx/nx, Ly/ny\n",
    "\n",
    "x1 = np.linspace(-Lx/2, Lx/2 - dx/2, nx+1, dtype = float)\n",
    "x2 = x1 + dx/2\n",
    "x2 = x2[0:-1]\n",
    "\n",
    "y1 = np.linspace(-Ly/2, Ly/2 - dy/2, ny+1, dtype = float)\n",
    "y2 = y1 + dy/2\n",
    "y2 = y2[0:-1]\n",
    "\n",
    "Xt, Yt = np.meshgrid(x2, y2)\n",
    "Xu, Yu = np.meshgrid(x1, y2)\n",
    "Xv, Yv = np.meshgrid(x2, y1)"
   ]
  },
  {
   "cell_type": "code",
   "execution_count": 11,
   "id": "6e7a4a9a-8023-451e-bb27-13aee35d2f6f",
   "metadata": {},
   "outputs": [],
   "source": [
    "def u_to_t(phi_U, nx, ny, dx, dy):\n",
    "    \n",
    "    phi_T = np.zeros((nx, ny))\n",
    "    \n",
    "    phi_T = (phi_U[0:nx, :] + phi_U[1:nx+1, :])/2\n",
    "    return phi_T\n",
    "\n",
    "def v_to_t(phi_V, nx, ny, dx, dy):\n",
    "    \n",
    "    phi_T = np.zeros((nx, ny))\n",
    "    \n",
    "    phi_T = (phi_V[:, 0:ny] + phi_V[:, 1:ny+1])/2\n",
    "    return phi_T\n",
    "\n",
    "def t_to_u(phi_T, nx, ny, dx, dy):\n",
    "    \n",
    "    phi_U = np.zeros((nx+1, ny))\n",
    "    \n",
    "    phi_U[1:nx, :] = (phi_T[0:nx-1, :] + phi_T[1:nx, :])/2\n",
    "    phi_U[0, :] = (3 * phi_T[0, :] - phi_T[1, :])*0.5\n",
    "    phi_U[-1, :] = (3 * phi_T[-1, :] - phi_T[-2, :])*0.5\n",
    "    return phi_U\n",
    "\n",
    "def t_to_v(phi_T, nx, ny, dx, dy):\n",
    "    \n",
    "    phi_V = np.zeros((nx, ny+1))\n",
    "    \n",
    "    phi_V[:, 1:ny] = (phi_T[:, 0:ny-1] + phi_T[:, 1:ny])/2\n",
    "    phi_V[:, 0] = (3 * phi_T[:, 0] - phi_T[:, 1])*0.5\n",
    "    phi_V[:, -1] = (3 * phi_T[:, -1] - phi_T[:, -2])*0.5\n",
    "    return phi_V\n",
    "\n",
    "def u_to_v(phi_U, nx, ny, dx, dy):\n",
    "    \n",
    "    phi_V = np.zeros((nx, ny+1))\n",
    "    phi_V[:, 1:ny] = (phi_U[0:nx, 0:ny-1] + phi_U[0:nx, 1:ny] + phi_U[1:nx+1, 0:ny-1] + phi_U[1:nx+1, 1:ny])*0.25\n",
    "    \n",
    "    #Assumning no-normal flow\n",
    "    phi_V[:, 0] = 0\n",
    "    phi_V[:, -1] = 0\n",
    "    return phi_V\n",
    "    \n",
    "def v_to_u(phi_V, nx, ny, dx, dy):\n",
    "    \n",
    "    phi_U = np.zeros((nx+1, ny))\n",
    "    phi_U[1:nx, :] = (phi_V[0:nx-1, 0:ny] + phi_V[0:nx-1, 0:ny] + phi_V[1:nx, 1:ny+1] + phi_V[1:nx, 1:ny+1])*0.25\n",
    "    \n",
    "    #Assumning no-normal flow\n",
    "    phi_U[0, :] = 0\n",
    "    phi_U[-1, :] = 0\n",
    "    return phi_U"
   ]
  },
  {
   "cell_type": "code",
   "execution_count": 12,
   "id": "f8246af0-41f6-4109-a74d-778b5046ec99",
   "metadata": {},
   "outputs": [],
   "source": [
    "U_old = np.zeros((nx+1, ny))\n",
    "U_new = np.zeros((nx+1, ny))\n",
    "V_old = np.zeros((nx, ny+1))\n",
    "V_new = np.zeros((nx, ny+1))\n",
    "\n",
    "U_avg = np.zeros((nx, ny-1))\n",
    "V_avg = np.zeros((nx-1, ny))\n",
    "\n",
    "h_old = 1 + 0.01*np.exp(-10*(Xt**2 + Yt**2))\n",
    "h_old_t0 = 1 + 0.01*np.exp(-10*(Xt**2 + Yt**2))\n",
    "h_new = np.zeros((nx, ny))\n",
    "\n",
    "t_start = 0\n",
    "t_end = 10\n",
    "dt = 0.001\n",
    "count = 0\n",
    "\n",
    "# Needed to create animations\n",
    "U_data = np.zeros(((nx+1, ny, int(t_end/dt) + 1)))\n",
    "V_data = np.zeros(((nx, ny+1, int(t_end/dt) + 1)))\n",
    "h_data = np.zeros(((nx, ny, int(t_end/dt) + 1)))\n",
    "\n",
    "for t in np.arange(t_start,t_end,dt):\n",
    "    \n",
    "    U_avg = 0.25*(U_old[0:nx, 0:ny-1] + U_old[0:nx, 1:ny] + U_old[1:nx+1, 0:ny-1] + U_old[1:nx+1, 1:ny])\n",
    "    V_avg = 0.25*(V_old[0:nx-1, 0:ny] + V_old[1:nx, 0:ny] + V_old[0:nx-1, 1:ny+1] + V_old[1:nx, 1:ny+1])\n",
    "    \n",
    "    U_new[1:nx, 1:ny-1] = U_old[1:nx, 1:ny-1] - dt*elr.partial_x_cd(U_old*U_old/t_to_u(h_old, nx, ny, dx, dy), dx, nx)[1:nx, 1:ny-1] - dt*elr.partial_y_cd(\n",
    "        U_old*v_to_u(V_old, nx, ny, dx, dy)/t_to_u(h_old, nx, ny, dx, dy), dy, ny)[1:nx, 1:ny-1] + dt*f*v_to_u(V_old, nx, ny, dx, dy)[1:nx, 1:ny-1] - dt*g*(1/dx)*(\n",
    "        h_old[1:nx, 1:ny-1] - h_old[0:nx-1, 1:ny-1]) * t_to_u(h_old, nx, ny, dx, dy)[1:nx, 1:ny-1]\n",
    "    \n",
    "    V_new[1:nx-1, 1:ny] = V_old[1:nx-1, 1:ny] - dt*elr.partial_x_cd(u_to_v(U_old, nx, ny, dx, dy)*V_old/t_to_v(h_old, nx, ny, dx, dy), dx, nx)[1:nx-1, 1:ny] - dt*(\n",
    "        elr.partial_y_cd(V_old**2/t_to_v(h_old, nx, ny, dx, dy), dy, ny)[1:nx-1, 1:ny]) - dt*f*u_to_v(U_old, nx, ny, dx, dy)[1:nx-1, 1:ny] - dt*g*(1/dy)*(\n",
    "        h_old[1:nx-1, 1:ny] - h_old[1:nx-1, 0:ny-1]) * t_to_v(h_old, nx, ny, dx, dy)[1:nx-1, 1:ny]\n",
    "    \n",
    "    h_new[1:nx-1, 1:ny-1] = h_old[1:nx-1, 1:ny-1] - dt*(1/dx)*(U_old[2:nx, 1:ny-1] - U_old[1:nx-1, 1:ny-1]) - dt*(1/dy)*(V_old[1:nx-1, 2:ny] - V_old[1:nx-1, 1:ny-1])\n",
    "    \n",
    "    periodic_BC(U_new, V_new, h_new)\n",
    "    \n",
    "    U_data[:, :, count] = U_new\n",
    "    V_data[:, :, count] = V_new\n",
    "    h_data[:, :, count] = h_new\n",
    "    \n",
    "    h_old = h_new\n",
    "    U_old = U_new\n",
    "    V_old = V_new\n",
    "    \n",
    "    count = count + 1"
   ]
  },
  {
   "cell_type": "code",
   "execution_count": 13,
   "id": "8f63fbc5-12df-4c25-ac57-d582ff3e0c8b",
   "metadata": {},
   "outputs": [
    {
     "data": {
      "text/html": [
       "<video src=\"Videos/Stgd_EE_Cons_hm.mp4\" controls  >\n",
       "      Your browser does not support the <code>video</code> element.\n",
       "    </video>"
      ],
      "text/plain": [
       "<IPython.core.display.Video object>"
      ]
     },
     "execution_count": 13,
     "metadata": {},
     "output_type": "execute_result"
    }
   ],
   "source": [
    "fig,ax = plt.subplots(figsize = (9, 7))\n",
    "\n",
    "def update_fig(i):\n",
    "    \n",
    "    plt.clf()\n",
    "    plt.title('Wave height for time = ' + str(dt*i*20))\n",
    "    p1 = plt.contourf(Xt, Yt, h_data[:,:,i*20], levels = np.linspace(0.996, 1.004, 21), cmap = 'RdBu')\n",
    "    plt.colorbar()\n",
    "    plt.xlabel('x')\n",
    "    plt.ylabel('y')\n",
    "    return p1\n",
    "\n",
    "num_frames = int(t_end/dt/20)\n",
    "anim = animation.FuncAnimation(fig, update_fig, frames = num_frames, blit = False)\n",
    "anim.save('Videos/Stgd_EE_Cons_hm.mp4',writer = 'ffmpeg',fps = 16)\n",
    "\n",
    "plt.close(anim._fig)\n",
    "\n",
    "Video('Videos/Stgd_EE_Cons_hm.mp4')"
   ]
  },
  {
   "cell_type": "markdown",
   "id": "4e7c768f-0b6b-42fb-86d2-2147953bb710",
   "metadata": {},
   "source": [
    "The solution for wave height matches with the non-conservative form, and acts like a double check that both the codes are correct."
   ]
  }
 ],
 "metadata": {
  "kernelspec": {
   "display_name": "Python 3",
   "language": "python",
   "name": "python3"
  },
  "language_info": {
   "codemirror_mode": {
    "name": "ipython",
    "version": 3
   },
   "file_extension": ".py",
   "mimetype": "text/x-python",
   "name": "python",
   "nbconvert_exporter": "python",
   "pygments_lexer": "ipython3",
   "version": "3.8.8"
  }
 },
 "nbformat": 4,
 "nbformat_minor": 5
}
