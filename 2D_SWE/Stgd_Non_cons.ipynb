{
 "cells": [
  {
   "cell_type": "markdown",
   "id": "699c5b1c-f73c-4724-a4f6-5f3083620070",
   "metadata": {},
   "source": [
    "The unstaggered case blows up for both the Euler explicit and Leap frog case. We move on to the staggered grid in 2D domain, and apply both the Euler explicit and Leap Frog scheme. The equations of motion are:\n",
    "\n",
    "$$ \\frac{\\partial u}{\\partial t} + u \\frac{\\partial u}{\\partial x} + v \\frac{\\partial u}{\\partial y} - fv = - g \\frac{\\partial h}{\\partial x} $$\n",
    "\n",
    "$$ \\frac{\\partial v}{\\partial t} + u \\frac{\\partial v}{\\partial x} + v \\frac{\\partial v}{\\partial y} + fu = - g \\frac{\\partial h}{\\partial y} $$\n",
    "\n",
    "$$ \\frac{\\partial h}{\\partial t} + \\frac{\\partial (uh)}{\\partial x} + \\frac{\\partial (vh)}{\\partial y} = 0$$\n",
    "\n",
    "We use the following staggered grid:\n",
    "\n",
    "     ----v---- ----v---- ----v----\n",
    "    |    |    |    |    |    |    |\n",
    "    u----h----u----h----u----h----u\n",
    "    |    |    |    |    |    |    |\n",
    "     ----v---- ----v---- ----v----\n",
    "    |    |    |    |    |    |    |\n",
    "    u----h----u----h----u----h----u\n",
    "    |    |    |    |    |    |    |\n",
    "     ----v---- ----v---- ----v----\n",
    "    |    |    |    |    |    |    |\n",
    "    u----h----u----h----u----h----u\n",
    "    |    |    |    |    |    |    |\n",
    "     ----v---- ----v---- ----v----"
   ]
  },
  {
   "cell_type": "code",
   "execution_count": 1,
   "id": "20c40d68-1ddc-43a9-acd0-48046c20f905",
   "metadata": {},
   "outputs": [],
   "source": [
    "import os\n",
    "import sys\n",
    "import numpy as np\n",
    "import matplotlib.pyplot as plt\n",
    "from IPython.display import Video\n",
    "from matplotlib import animation\n",
    "from mpl_toolkits import mplot3d"
   ]
  },
  {
   "cell_type": "code",
   "execution_count": 2,
   "id": "2ab4f57b-b5eb-4e0e-9d24-250f2b215851",
   "metadata": {},
   "outputs": [],
   "source": [
    "nb_dir = os.path.split(os.getcwd())[0]\n",
    "if nb_dir not in sys.path:\n",
    "    sys.path.append(nb_dir)\n",
    "\n",
    "import Euler.Periodic_2D as elr"
   ]
  },
  {
   "cell_type": "markdown",
   "id": "c827be09-e870-46ba-a695-c427a7c8b0dd",
   "metadata": {},
   "source": [
    "## Euler explicit scheme"
   ]
  },
  {
   "cell_type": "code",
   "execution_count": 3,
   "id": "3cf4d3c2-74b6-4c98-af74-4af9886a1caa",
   "metadata": {},
   "outputs": [],
   "source": [
    "g = 9.81\n",
    "r0 = 6.378*10**6\n",
    "day = 24*60*60\n",
    "omega = 2*np.pi / day\n",
    "f = 2*omega*np.sin(np.deg2rad(30))  #It is assumed that f is constant in the y-direction too."
   ]
  },
  {
   "cell_type": "code",
   "execution_count": 4,
   "id": "f1d826f0-a0ca-40a5-a269-d1c4269c6c54",
   "metadata": {},
   "outputs": [],
   "source": [
    "Lx, Ly = 6, 6\n",
    "nx, ny = 100, 100\n",
    "dx, dy = Lx/nx, Ly/ny\n",
    "\n",
    "# Creating the required staggered grid\n",
    "x1 = np.linspace(-Lx/2, Lx/2 - dx/2, nx+1, dtype = float)\n",
    "x2 = x1 + dx/2\n",
    "x2 = x2[0:-1]\n",
    "\n",
    "y1 = np.linspace(-Ly/2, Ly/2 - dy/2, ny+1, dtype = float)\n",
    "y2 = y1 + dy/2\n",
    "y2 = y2[0:-1]\n",
    "\n",
    "Xt, Yt = np.meshgrid(x2, y2)\n",
    "Xu, Yu = np.meshgrid(x1, y2)\n",
    "Xv, Yv = np.meshgrid(x2, y1)"
   ]
  },
  {
   "cell_type": "code",
   "execution_count": 5,
   "id": "ae89fc98-d9f7-4589-bc1c-4bdc354c4bd6",
   "metadata": {},
   "outputs": [],
   "source": [
    "# Boundary conditions\n",
    "\n",
    "def periodic_BC(u, v, h):\n",
    "    u[0, :] = u[-2, :]\n",
    "    u[-1, :] = u[1, :]\n",
    "    u[:, 0] = u[:, -2]\n",
    "    u[:, -1] = u[:, 1]\n",
    "    \n",
    "    v[:, 0] = v[:, -2]\n",
    "    v[:, -1] = v[:, 1]\n",
    "    v[0, :] = v[-2, :]\n",
    "    v[-1, :] = v[1, :]\n",
    "    \n",
    "    h[0, :] = h[-2, :]\n",
    "    h[-1, :] = h[1, :]\n",
    "    h[:, 0] = h[:, -2]\n",
    "    h[:, -1] = h[:, 1]\n",
    "    \n",
    "    return (u, v, h)"
   ]
  },
  {
   "cell_type": "code",
   "execution_count": 6,
   "id": "ffb8e40b-4100-4019-8f32-fe79e6e0d69e",
   "metadata": {},
   "outputs": [],
   "source": [
    "um_old = np.zeros((nx+1, ny))\n",
    "um_new = np.zeros((nx+1, ny))\n",
    "vm_old = np.zeros((nx, ny+1))\n",
    "vm_new = np.zeros((nx, ny+1))\n",
    "\n",
    "um_avg = np.zeros((nx, ny-1))\n",
    "vm_avg = np.zeros((nx-1, ny))\n",
    "\n",
    "hm_old = 1 + 0.01*np.exp(-10*(Xt**2 + Yt**2))\n",
    "hm_old_t0 = 1 + 0.01*np.exp(-10*(Xt**2 + Yt**2))\n",
    "hm_new = np.zeros((nx, ny))\n",
    "\n",
    "t_start = 0\n",
    "t_end = 10\n",
    "dt = 0.001\n",
    "\n",
    "count = 0\n",
    "\n",
    "# Needed to create animations\n",
    "um_data = np.zeros(((nx+1, ny, int(t_end/dt) + 1)))\n",
    "vm_data = np.zeros(((nx, ny+1, int(t_end/dt) + 1)))\n",
    "hm_data = np.zeros(((nx, ny, int(t_end/dt) + 1)))\n",
    "\n",
    "for t in np.arange(t_start,t_end,dt):\n",
    "    \n",
    "    um_avg = 0.25*(um_old[0:nx, 0:ny-1] + um_old[0:nx, 1:ny] + um_old[1:nx+1, 0:ny-1] + um_old[1:nx+1, 1:ny])\n",
    "    vm_avg = 0.25*(vm_old[0:nx-1, 0:ny] + vm_old[1:nx, 0:ny] + vm_old[0:nx-1, 1:ny+1] + vm_old[1:nx, 1:ny+1])\n",
    "    \n",
    "    # Governing equations for interior points\n",
    "    um_new[1:nx, 1:ny-1] = um_old[1:nx, 1:ny-1] - dt*(um_old[1:nx, 1:ny-1] * elr.partial_x_cd(um_old, dx, nx)[1:nx, 1:ny-1] + vm_avg[:, 1:-1] * elr.partial_y_cd(\n",
    "        um_old, dy, ny)[1:nx, 1:ny-1] - f*vm_avg[:, 1:-1] + g * (1/dx) * (hm_old[1:, 1:-1] - hm_old[0:-1, 1:-1]))\n",
    "    vm_new[1:nx-1, 1:ny] = vm_old[1:nx-1, 1:ny] - dt*(um_avg[1:-1, :] * elr.partial_x_cd(vm_old, dx, nx)[1:nx-1, 1:ny] + vm_old[1:nx-1, 1:ny] * elr.partial_y_cd(\n",
    "        vm_old, dy, ny)[1:nx-1, 1:ny] + f*um_avg[1:-1 ,:] + g * (1/dy) * (hm_old[1:-1, 1:] - hm_old[1:-1, 0:-1]))\n",
    "    hm_new[1:nx-1, 1:ny-1] = hm_old[1:nx-1, 1:ny-1] - dt*((\n",
    "        0.5*(um_old[1:nx-1, 1:ny-1] + um_old[2:nx, 1:ny-1]) * elr.partial_x_cd(hm_old, dx, nx)[1:nx-1, 1:ny-1]) + (\n",
    "        0.5*(vm_old[1:nx-1, 1:ny-1] + vm_old[1:nx-1, 2:ny]) * elr.partial_y_cd(hm_old, dy, ny)[1:nx-1, 1:ny-1]) + (\n",
    "        hm_old[1:nx-1, 1:ny-1] * (1/dx) * (um_old[2:nx, 1:ny-1] - um_old[1:nx-1, 1:ny-1])) + (\n",
    "        hm_old[1:nx-1, 1:ny-1] * (1/dy) * (vm_old[1:nx-1, 2:ny] - vm_old[1:nx-1, 1:ny-1])))\n",
    "    \n",
    "    # Periodic boundary conditions\n",
    "    periodic_BC(um_new, vm_new, hm_new)\n",
    "    \n",
    "    um_data[:, :, count] = um_new\n",
    "    vm_data[:, :, count] = vm_new\n",
    "    hm_data[:, :, count] = hm_new\n",
    "    \n",
    "    hm_old = hm_new\n",
    "    um_old = um_new\n",
    "    vm_old = vm_new\n",
    "    \n",
    "    count = count + 1"
   ]
  },
  {
   "cell_type": "code",
   "execution_count": 7,
   "id": "81c16489-352d-45f8-a7da-7880f99d76a1",
   "metadata": {},
   "outputs": [
    {
     "data": {
      "text/html": [
       "<video src=\"Videos/Stgd_EE_NCons_hm.mp4\" controls  >\n",
       "      Your browser does not support the <code>video</code> element.\n",
       "    </video>"
      ],
      "text/plain": [
       "<IPython.core.display.Video object>"
      ]
     },
     "execution_count": 7,
     "metadata": {},
     "output_type": "execute_result"
    }
   ],
   "source": [
    "fig,ax = plt.subplots(figsize = (9,7))\n",
    "\n",
    "def update_fig(i):\n",
    "    \n",
    "    plt.clf()\n",
    "    plt.title('Wave height for time = ' + str(dt*i*20))\n",
    "    p1 = plt.contourf(Xt, Yt, hm_data[:,:,i*20], levels = np.linspace(0.996, 1.004, 21), cmap = 'RdBu')\n",
    "    plt.colorbar()\n",
    "    plt.xlabel('x')\n",
    "    plt.ylabel('y')\n",
    "    return p1\n",
    "\n",
    "num_frames = int(t_end/dt/20)\n",
    "anim = animation.FuncAnimation(fig, update_fig, frames = num_frames, blit = False)\n",
    "anim.save('Videos/Stgd_EE_NCons_hm.mp4', writer = 'ffmpeg', fps = 16)\n",
    "\n",
    "plt.close(anim._fig)\n",
    "\n",
    "Video('Videos/Stgd_EE_NCons_hm.mp4')"
   ]
  },
  {
   "cell_type": "code",
   "execution_count": 8,
   "id": "642ac151-dd05-45b3-9c71-7ff803e9ac42",
   "metadata": {},
   "outputs": [
    {
     "data": {
      "text/plain": [
       "<matplotlib.colorbar.Colorbar at 0x7ffde5864580>"
      ]
     },
     "execution_count": 8,
     "metadata": {},
     "output_type": "execute_result"
    },
    {
     "data": {
      "image/png": "[encoded data removed]",
      "text/plain": [
       "<Figure size 648x504 with 2 Axes>"
      ]
     },
     "metadata": {
      "needs_background": "light"
     },
     "output_type": "display_data"
    }
   ],
   "source": [
    "plt.figure(figsize = (9, 7))\n",
    "plt.contourf(Xt, Yt, hm_new, levels = np.linspace(0.996, 1.004, 21), cmap = 'RdBu')\n",
    "plt.colorbar()"
   ]
  },
  {
   "cell_type": "markdown",
   "id": "a219080d-a472-41ec-a977-b4f9d4a6c01a",
   "metadata": {},
   "source": [
    "## Leap Frog scheme"
   ]
  },
  {
   "cell_type": "code",
   "execution_count": 9,
   "id": "3d061127-7fb0-458e-8045-1e05d4229db2",
   "metadata": {},
   "outputs": [],
   "source": [
    "Lx, Ly = 6, 6\n",
    "nx, ny = 100, 100\n",
    "dx, dy = Lx/nx, Ly/ny\n",
    "\n",
    "x1 = np.linspace(-Lx/2, Lx/2 - dx/2, nx+1, dtype = float)\n",
    "x2 = x1 + dx/2\n",
    "x2 = x2[0:-1]\n",
    "\n",
    "y1 = np.linspace(-Ly/2, Ly/2 - dy/2, ny+1, dtype = float)\n",
    "y2 = y1 + dy/2\n",
    "y2 = y2[0:-1]\n",
    "\n",
    "Xt, Yt = np.meshgrid(x2, y2)\n",
    "Xu, Yu = np.meshgrid(x1, y2)\n",
    "Xv, Yv = np.meshgrid(x2, y1)"
   ]
  },
  {
   "cell_type": "code",
   "execution_count": 10,
   "id": "0dcd9362-3438-49be-a160-78cecc1ebbeb",
   "metadata": {},
   "outputs": [],
   "source": [
    "#Initialising variables\n",
    "\n",
    "um_older = np.zeros((nx+1, ny))\n",
    "um_old = np.zeros((nx+1, ny))\n",
    "um_new = np.zeros((nx+1, ny))\n",
    "\n",
    "vm_older = np.zeros((nx, ny+1))\n",
    "vm_old = np.zeros((nx, ny+1))\n",
    "vm_new = np.zeros((nx, ny+1))\n",
    "\n",
    "um_avg = np.zeros((nx, ny-1))\n",
    "vm_avg = np.zeros((nx-1, ny))\n",
    "\n",
    "hm_older = np.zeros((nx, ny))\n",
    "hm_old = 1 + 0.01*np.exp(-10*(Xt**2 + Yt**2))\n",
    "hm_old_t0 = 1 + 0.01*np.exp(-10*(Xt**2 + Yt**2))\n",
    "hm_new = np.zeros((nx, ny))\n",
    "\n",
    "t_start = 0\n",
    "t_end = 5\n",
    "dt = 0.001\n",
    "count = 0\n",
    "\n",
    "# Needed to create animations\n",
    "um_data = np.zeros(((nx+1, ny, int(t_end/dt) + 1)))\n",
    "vm_data = np.zeros(((nx, ny+1, int(t_end/dt) + 1)))\n",
    "hm_data = np.zeros(((nx, ny, int(t_end/dt) + 1)))"
   ]
  },
  {
   "cell_type": "code",
   "execution_count": 11,
   "id": "55466783-9dc6-47d3-9d4f-c92475317715",
   "metadata": {},
   "outputs": [],
   "source": [
    "for t in np.arange(t_start,t_end,dt):\n",
    "    \n",
    "    um_avg = 0.25*(um_old[0:nx, 0:ny-1] + um_old[0:nx, 1:ny] + um_old[1:nx+1, 0:ny-1] + um_old[1:nx+1, 1:ny])\n",
    "    vm_avg = 0.25*(vm_old[0:nx-1, 0:ny] + vm_old[1:nx, 0:ny] + vm_old[0:nx-1, 1:ny+1] + vm_old[1:nx, 1:ny+1])\n",
    "    \n",
    "    if(count == 0):\n",
    "        # Governing equations for interior points\n",
    "        um_new[1:nx, 1:ny-1] = um_old[1:nx, 1:ny-1] - dt*(um_old[1:nx, 1:ny-1] * elr.partial_x_cd(um_old, dx, nx)[1:nx, 1:ny-1] + vm_avg[:, 1:-1] * elr.partial_y_cd(\n",
    "            um_old, dx, nx)[1:nx, 1:ny-1] - f*vm_avg[:, 1:-1] + g * (1/dx) * (hm_old[1:, 1:-1] - hm_old[0:-1, 1:-1]))\n",
    "        vm_new[1:nx-1, 1:ny] = vm_old[1:nx-1, 1:ny] - dt*(um_avg[1:-1, :] * elr.partial_x_cd(vm_old, dy, ny)[1:nx-1, 1:ny] + vm_old[1:nx-1, 1:ny] * elr.partial_y_cd(\n",
    "            vm_old, dy, ny)[1:nx-1, 1:ny] + f*um_avg[1:-1 ,:] + g * (1/dy) * (hm_old[1:-1, 1:] - hm_old[1:-1, 0:-1]))\n",
    "        hm_new[1:nx-1, 1:ny-1] = hm_old[1:nx-1, 1:ny-1] - dt*((\n",
    "            0.5 * (um_old[1:nx-1, 1:ny-1] + um_old[2:nx, 1:ny-1]) * elr.partial_x_cd(hm_old, dx, nx)[1:nx-1, 1:ny-1]) + (\n",
    "            0.5 * (vm_old[1:nx-1, 1:ny-1] + vm_old[1:nx-1, 2:ny]) * elr.partial_y_cd(hm_old, dy, ny)[1:nx-1, 1:ny-1]) + (\n",
    "            hm_old[1:nx-1, 1:ny-1] * (1/dx) * (um_old[2:nx, 1:ny-1] - um_old[1:nx-1, 1:ny-1])) + (\n",
    "            hm_old[1:nx-1, 1:ny-1] * (1/dy) * (vm_old[1:nx-1, 2:ny] - vm_old[1:nx-1, 1:ny-1])))\n",
    "    else:\n",
    "        # Governing equations for interior points\n",
    "        um_new[1:nx, 1:ny-1] = um_older[1:nx, 1:ny-1] - 2*dt*(um_old[1:nx, 1:ny-1] * elr.partial_x_cd(um_old, dx, nx)[1:nx, 1:ny-1] + vm_avg[:, 1:-1] * elr.partial_y_cd(\n",
    "            um_old, dx, nx)[1:nx, 1:ny-1] - f*vm_avg[:, 1:-1] + g * (1/dx) * (hm_old[1:, 1:-1] - hm_old[0:-1, 1:-1]))\n",
    "        vm_new[1:nx-1, 1:ny] = vm_older[1:nx-1, 1:ny] - 2*dt*(um_avg[1:-1, :] * elr.partial_x_cd(vm_old, dy, ny)[1:nx-1, 1:ny] + vm_old[1:nx-1, 1:ny] * elr.partial_y_cd(\n",
    "            vm_old, dy, ny)[1:nx-1, 1:ny] + f*um_avg[1:-1 ,:] + g * (1/dy) * (hm_old[1:-1, 1:] - hm_old[1:-1, 0:-1]))\n",
    "        hm_new[1:nx-1, 1:ny-1] = hm_older[1:nx-1, 1:ny-1] - 2*dt*((\n",
    "            0.5 * (um_old[1:nx-1, 1:ny-1] + um_old[2:nx, 1:ny-1]) * elr.partial_x_cd(hm_old, dx, nx)[1:nx-1, 1:ny-1]) + (\n",
    "            0.5 * (vm_old[1:nx-1, 1:ny-1] + vm_old[1:nx-1, 2:ny]) * elr.partial_y_cd(hm_old, dy, ny)[1:nx-1, 1:ny-1]) + (\n",
    "            hm_old[1:nx-1, 1:ny-1] * (1/dx) * (um_old[2:nx, 1:ny-1] - um_old[1:nx-1, 1:ny-1])) + (\n",
    "            hm_old[1:nx-1, 1:ny-1] * (1/dy) * (vm_old[1:nx-1, 2:ny] - vm_old[1:nx-1, 1:ny-1])))\n",
    "\n",
    "    # Periodic boundary conditions\n",
    "    periodic_BC(um_new, vm_new, hm_new)\n",
    "    \n",
    "    um_data[:, :, count] = um_new\n",
    "    vm_data[:, :, count] = vm_new\n",
    "    hm_data[:, :, count] = hm_new\n",
    "    \n",
    "    hm_older = hm_old\n",
    "    um_older = um_old\n",
    "    vm_older = vm_old\n",
    "    \n",
    "    hm_old = hm_new\n",
    "    um_old = um_new\n",
    "    vm_old = vm_new\n",
    "    \n",
    "    count = count + 1"
   ]
  },
  {
   "cell_type": "code",
   "execution_count": 12,
   "id": "62ac0718-9855-4273-b1fa-06ced4f7a628",
   "metadata": {},
   "outputs": [
    {
     "data": {
      "text/html": [
       "<video src=\"Videos/Stgd_NCons_LF_hm.mp4\" controls  >\n",
       "      Your browser does not support the <code>video</code> element.\n",
       "    </video>"
      ],
      "text/plain": [
       "<IPython.core.display.Video object>"
      ]
     },
     "execution_count": 12,
     "metadata": {},
     "output_type": "execute_result"
    }
   ],
   "source": [
    "fig,ax = plt.subplots(figsize = (9, 7))\n",
    "\n",
    "def update_fig(i):\n",
    "    \n",
    "    plt.clf()\n",
    "    plt.title('Wave height for time = ' + str(dt*i*10))\n",
    "    p1 = plt.contourf(Xt, Yt, hm_data[:,:,i*10], levels = np.linspace(0.996, 1.004, 21), cmap = 'RdBu')\n",
    "    plt.colorbar()\n",
    "    plt.xlabel('x')\n",
    "    plt.ylabel('y')\n",
    "    return p1\n",
    "\n",
    "num_frames = int(t_end/dt/10)\n",
    "anim = animation.FuncAnimation(fig, update_fig, frames = num_frames, blit = False)\n",
    "anim.save('Videos/Stgd_NCons_LF_hm.mp4',writer = 'ffmpeg',fps = 16)\n",
    "\n",
    "plt.close(anim._fig)\n",
    "\n",
    "Video('Videos/Stgd_NCons_LF_hm.mp4')"
   ]
  },
  {
   "cell_type": "code",
   "execution_count": 13,
   "id": "448e3ff3-5345-4896-978f-5caf661efdb2",
   "metadata": {},
   "outputs": [
    {
     "data": {
      "text/plain": [
       "<matplotlib.colorbar.Colorbar at 0x7ffd8d075c40>"
      ]
     },
     "execution_count": 13,
     "metadata": {},
     "output_type": "execute_result"
    },
    {
     "data": {
      "image/png": "[encoded data removed]",
      "text/plain": [
       "<Figure size 648x504 with 2 Axes>"
      ]
     },
     "metadata": {
      "needs_background": "light"
     },
     "output_type": "display_data"
    }
   ],
   "source": [
    "plt.figure(figsize = (9, 7))\n",
    "plt.contourf(Xt, Yt, hm_new, levels = np.linspace(0.996, 1.004, 21), cmap = 'RdBu')\n",
    "plt.colorbar()"
   ]
  },
  {
   "cell_type": "code",
   "execution_count": null,
   "id": "70809b79-1d8e-4e8b-bad6-2dff712249e5",
   "metadata": {},
   "outputs": [],
   "source": []
  }
 ],
 "metadata": {
  "kernelspec": {
   "display_name": "Python 3",
   "language": "python",
   "name": "python3"
  },
  "language_info": {
   "codemirror_mode": {
    "name": "ipython",
    "version": 3
   },
   "file_extension": ".py",
   "mimetype": "text/x-python",
   "name": "python",
   "nbconvert_exporter": "python",
   "pygments_lexer": "ipython3",
   "version": "3.8.8"
  }
 },
 "nbformat": 4,
 "nbformat_minor": 5
}
