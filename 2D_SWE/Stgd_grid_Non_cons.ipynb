{
 "cells": [
  {
   "cell_type": "markdown",
   "id": "699c5b1c-f73c-4724-a4f6-5f3083620070",
   "metadata": {},
   "source": [
    "The unstaggered case blows up for both the Euler explicit and Leap frog case. We move on to the staggered grid in 2D domain, and apply both the Euler explicit and Leap Frog scheme. The equations of motion are:\n",
    "\n",
    "$$ \\frac{\\partial u}{\\partial t} + u \\frac{\\partial u}{\\partial x} + v \\frac{\\partial u}{\\partial y} - fv = - g \\frac{\\partial h}{\\partial x} $$\n",
    "\n",
    "$$ \\frac{\\partial v}{\\partial t} + u \\frac{\\partial v}{\\partial x} + v \\frac{\\partial v}{\\partial y} + fu = - g \\frac{\\partial h}{\\partial y} $$\n",
    "\n",
    "$$ \\frac{\\partial h}{\\partial t} + \\frac{\\partial (uh)}{\\partial x} + \\frac{\\partial (vh)}{\\partial y} = 0$$\n",
    "\n",
    "We use the following staggered grid:\n",
    "\n",
    "     ----v---- ----v---- ----v----\n",
    "    |    |    |    |    |    |    |\n",
    "    u----h----u----h----u----h----u\n",
    "    |    |    |    |    |    |    |\n",
    "     ----v---- ----v---- ----v----\n",
    "    |    |    |    |    |    |    |\n",
    "    u----h----u----h----u----h----u\n",
    "    |    |    |    |    |    |    |\n",
    "     ----v---- ----v---- ----v----\n",
    "    |    |    |    |    |    |    |\n",
    "    u----h----u----h----u----h----u\n",
    "    |    |    |    |    |    |    |\n",
    "     ----v---- ----v---- ----v----"
   ]
  },
  {
   "cell_type": "markdown",
   "id": "8a5d1bc0-39a3-4c9b-bb9d-0fcd7887de8b",
   "metadata": {},
   "source": [
    "On this grid, nx = 3, ny = 3. um_avg = np.zeros((nx-2,ny-1))."
   ]
  },
  {
   "cell_type": "code",
   "execution_count": 1,
   "id": "20c40d68-1ddc-43a9-acd0-48046c20f905",
   "metadata": {},
   "outputs": [],
   "source": [
    "import os\n",
    "import sys\n",
    "import numpy as np\n",
    "import matplotlib.pyplot as plt\n",
    "from IPython.display import Video\n",
    "from matplotlib import animation\n",
    "from mpl_toolkits import mplot3d"
   ]
  },
  {
   "cell_type": "code",
   "execution_count": 2,
   "id": "2ab4f57b-b5eb-4e0e-9d24-250f2b215851",
   "metadata": {},
   "outputs": [],
   "source": [
    "nb_dir = os.path.split(os.getcwd())[0]\n",
    "if nb_dir not in sys.path:\n",
    "    sys.path.append(nb_dir)\n",
    "\n",
    "import Euler.Periodic_2D as elr"
   ]
  },
  {
   "cell_type": "markdown",
   "id": "c827be09-e870-46ba-a695-c427a7c8b0dd",
   "metadata": {},
   "source": [
    "## Euler explicit scheme"
   ]
  },
  {
   "cell_type": "code",
   "execution_count": 3,
   "id": "3cf4d3c2-74b6-4c98-af74-4af9886a1caa",
   "metadata": {},
   "outputs": [],
   "source": [
    "#Defining constants\n",
    "\n",
    "g = 9.81\n",
    "r0 = 6.378*10**6\n",
    "day = 24*60*60\n",
    "omega = 2*np.pi / day\n",
    "f = 2*omega*np.sin(np.deg2rad(30))"
   ]
  },
  {
   "cell_type": "code",
   "execution_count": 4,
   "id": "f1d826f0-a0ca-40a5-a269-d1c4269c6c54",
   "metadata": {},
   "outputs": [],
   "source": [
    "Lx, Ly = 3, 3\n",
    "nx, ny = 100, 100\n",
    "dx, dy = Lx/nx, Ly/ny\n",
    "\n",
    "x1 = np.linspace(-Lx, Lx - dx/2, nx+1, dtype = float)\n",
    "x2 = x1 + dx/2\n",
    "x2 = x2[0:-1]\n",
    "\n",
    "y1 = np.linspace(-Ly, Ly - dy/2, ny+1, dtype = float)\n",
    "y2 = y1 + dy/2\n",
    "y2 = y2[0:-1]\n",
    "\n",
    "Xt, Yt = np.meshgrid(x2, y2)\n",
    "Xu, Yu = np.meshgrid(x1, y2)\n",
    "Xv, Yv = np.meshgrid(x2, y1)"
   ]
  },
  {
   "cell_type": "code",
   "execution_count": 5,
   "id": "ffb8e40b-4100-4019-8f32-fe79e6e0d69e",
   "metadata": {},
   "outputs": [],
   "source": [
    "um_old = np.zeros((nx+1, ny))\n",
    "um_new = np.zeros((nx+1, ny))\n",
    "vm_old = np.zeros((nx, ny+1))\n",
    "vm_new = np.zeros((nx, ny+1))\n",
    "\n",
    "um_avg = np.zeros((nx, ny-1))\n",
    "vm_avg = np.zeros((nx-1, ny))\n",
    "\n",
    "hm_old = 1 + 0.01*np.exp(-10*(Xt**2 + Yt**2))\n",
    "hm_old_t0 = 1 + 0.01*np.exp(-10*(Xt**2 + Yt**2))\n",
    "hm_new = np.zeros((nx, ny))\n",
    "\n",
    "t_start = 0\n",
    "t_end = 10\n",
    "dt = 0.01\n",
    "\n",
    "# Needed to create animations\n",
    "um_data = np.zeros(((nx+1, ny, int(t_end/dt) + 1)))\n",
    "vm_data = np.zeros(((nx, ny+1, int(t_end/dt) + 1)))\n",
    "hm_data = np.zeros(((nx, ny, int(t_end/dt) + 1)))\n",
    "\n",
    "for t in np.arange(t_start,t_end,dt):\n",
    "    \n",
    "    um_avg = 0.25*(um_old[0:nx, 0:ny-1] + um_old[0:nx, 1:ny] + um_old[1:nx+1, 0:ny-1] + um_old[1:nx+1, 1:ny])\n",
    "    vm_avg = 0.25*(vm_old[0:nx-1, 0:ny] + vm_old[1:nx, 0:ny] + vm_old[0:nx-1, 1:ny+1] + vm_old[1:nx, 1:ny+1])\n",
    "    \n",
    "    # Governing equations for interior points\n",
    "    um_new[1:nx, 1:ny-1] = um_old[1:nx, 1:ny-1] - dt*(um_old[1:nx, 1:ny-1] * elr.partial_x_cd(um_old, dx, nx)[1:nx, 1:ny-1] - vm_avg[:, 1:-1] * elr.partial_y_cd(\n",
    "        um_old, dx, nx)[1:nx, 1:ny-1] + f*vm_avg[:, 1:-1] - g * (1/dx) * (hm_old[1:, 1:-1] - hm_old[0:-1, 1:-1]))\n",
    "    vm_new[1:nx-1, 1:ny] = vm_old[1:nx-1, 1:ny] - dt*(um_avg[1:-1, :] * elr.partial_x_cd(vm_old, dy, ny)[1:nx-1, 1:ny] - vm_old[1:nx-1, 1:ny] * elr.partial_y_cd(\n",
    "        vm_old, dy, ny)[1:nx-1, 1:ny] - f*um_avg[1:-1 ,:] - g * (1/dy) * (hm_old[1:-1, 1:] - hm_old[1:-1, 0:-1]))\n",
    "    hm_new[1:nx-1, 1:ny-1] = hm_old[1:nx-1, 1:ny-1] - 0.5*dt*((um_old[1:nx-1,1:ny-1] + um_old[2:nx, 1:ny-1]) * elr.partial_x_cd(\n",
    "        hm_old, dx, nx)[1:nx-1, 1:ny-1] - 0.5 * (vm_old[1:nx-1, 1:ny-1] + vm_old[1:nx-1, 2:ny]) * elr.partial_y_cd(\n",
    "        hm_old, dy, ny)[1:nx-1, 1:ny-1] - 0.5 * hm_old[1:nx-1, 1:ny-1] * (1/dx) * (um_old[2:nx, 1:ny-1] - um_old[1:nx-1, 1:ny-1]) - hm_old[1:nx-1, 1:ny-1] * (1/dy) * (\n",
    "        vm_old[1:nx-1, 2:ny] - vm_old[1:nx-1, 1:ny-1]))\n",
    "    \n",
    "    # Periodic boundary conditions\n",
    "    um_new[0, :] = um_new[-2, :]\n",
    "    um_new[-1, :] = um_new[1, :]\n",
    "    um_new[:, 0] = um_new[:, -2]\n",
    "    um_new[:, -1] = um_new[:, 1]\n",
    "    \n",
    "    vm_new[:, 0] = vm_new[:, -2]\n",
    "    vm_new[:, -1] = vm_new[:, 1]\n",
    "    vm_new[0, :] = vm_new[-2, :]\n",
    "    vm_new[-1, :] = vm_new[1, :]\n",
    "    \n",
    "    hm_new[0, :] = hm_new[-2, :]\n",
    "    hm_new[-1, :] = hm_new[1, :]\n",
    "    hm_new[:, 0] = hm_new[:, -2]\n",
    "    hm_new[:, -1] = hm_new[:, 1]\n",
    "    \n",
    "    um_data[:, :, int(t/dt)] = um_new\n",
    "    vm_data[:, :, int(t/dt)] = vm_new\n",
    "    hm_data[:, :, int(t/dt)] = hm_new\n",
    "    \n",
    "    hm_old = hm_new\n",
    "    um_old = um_new\n",
    "    vm_old = vm_new"
   ]
  },
  {
   "cell_type": "code",
   "execution_count": 14,
   "id": "81c16489-352d-45f8-a7da-7880f99d76a1",
   "metadata": {},
   "outputs": [
    {
     "data": {
      "text/html": [
       "<video src=\"Videos/2D_SWE_Cons_hm.mp4\" controls  >\n",
       "      Your browser does not support the <code>video</code> element.\n",
       "    </video>"
      ],
      "text/plain": [
       "<IPython.core.display.Video object>"
      ]
     },
     "execution_count": 14,
     "metadata": {},
     "output_type": "execute_result"
    }
   ],
   "source": [
    "fig,ax = plt.subplots(figsize = (13,5))\n",
    "\n",
    "def update_fig(i):\n",
    "    \n",
    "    plt.clf()\n",
    "    plt.title('Wave height for time = ' + str(dt*i))\n",
    "    p1 = plt.contourf(Xt, Yt, hm_data[:,:,i], levels = np.linspace(0.996, 1.004, 21), cmap = 'RdBu')\n",
    "    plt.colorbar()\n",
    "    plt.xlabel('x')\n",
    "    plt.ylabel('y')\n",
    "    return p1\n",
    "\n",
    "num_frames = int(t_end/dt)\n",
    "anim = animation.FuncAnimation(fig, update_fig, frames = num_frames, blit = False)\n",
    "anim.save('Videos/2D_SWE_Cons_hm.mp4',writer = 'ffmpeg',fps = 8)\n",
    "\n",
    "plt.close(anim._fig)\n",
    "\n",
    "Video('Videos/2D_SWE_Cons_hm.mp4')"
   ]
  },
  {
   "cell_type": "code",
   "execution_count": 15,
   "id": "526c0d17-40e6-429c-94e1-199614a5c166",
   "metadata": {},
   "outputs": [
    {
     "data": {
      "text/plain": [
       "<matplotlib.contour.QuadContourSet at 0x7ff6a5d1a130>"
      ]
     },
     "execution_count": 15,
     "metadata": {},
     "output_type": "execute_result"
    },
    {
     "data": {
      "image/png": "[encoded data removed]",
      "text/plain": [
       "<Figure size 432x288 with 1 Axes>"
      ]
     },
     "metadata": {
      "needs_background": "light"
     },
     "output_type": "display_data"
    }
   ],
   "source": [
    "plt.contourf(Xt, Yt, hm_new, levels = np.linspace(0.996, 1.004, 21), cmap = 'RdBu')"
   ]
  },
  {
   "cell_type": "markdown",
   "id": "a219080d-a472-41ec-a977-b4f9d4a6c01a",
   "metadata": {},
   "source": [
    "## Leap Frog scheme"
   ]
  },
  {
   "cell_type": "code",
   "execution_count": 16,
   "id": "3d061127-7fb0-458e-8045-1e05d4229db2",
   "metadata": {},
   "outputs": [],
   "source": [
    "Lx, Ly = 3, 3\n",
    "nx, ny = 100, 100\n",
    "dx, dy = Lx/nx, Ly/ny\n",
    "\n",
    "x1 = np.linspace(-Lx, Lx - dx/2, nx+1, dtype = float)\n",
    "x2 = x1 + dx/2\n",
    "x2 = x2[0:-1]\n",
    "\n",
    "y1 = np.linspace(-Ly, Ly - dy/2, ny+1, dtype = float)\n",
    "y2 = y1 + dy/2\n",
    "y2 = y2[0:-1]"
   ]
  },
  {
   "cell_type": "code",
   "execution_count": 28,
   "id": "a284bf88-c1de-462e-a773-b9626b028cba",
   "metadata": {},
   "outputs": [],
   "source": [
    "Xt, Yt = np.meshgrid(x2, y2)\n",
    "Xu, Yu = np.meshgrid(x1, y2)\n",
    "Xv, Yv = np.meshgrid(x2, y1)\n",
    "\n",
    "um_older = np.zeros((nx+1, ny))\n",
    "um_old = np.zeros((nx+1, ny))\n",
    "um_new = np.zeros((nx+1, ny))\n",
    "\n",
    "vm_older = np.zeros((nx, ny+1))\n",
    "vm_old = np.zeros((nx, ny+1))\n",
    "vm_new = np.zeros((nx, ny+1))\n",
    "\n",
    "um_avg = np.zeros((nx, ny-1))\n",
    "vm_avg = np.zeros((nx-1, ny))\n",
    "\n",
    "hm_older = np.zeros((nx, ny))\n",
    "hm_old = 1 + 0.01*np.exp(-10*(Xt**2 + Yt**2))\n",
    "hm_old_t0 = 1 + 0.01*np.exp(-10*(Xt**2 + Yt**2))\n",
    "hm_new = np.zeros((nx, ny))\n",
    "\n",
    "t_start = 0\n",
    "t_end = 5\n",
    "dt = 0.001\n",
    "\n",
    "# Needed to create animations\n",
    "um_data = np.zeros(((nx+1, ny, int(t_end/dt) + 1)))\n",
    "vm_data = np.zeros(((nx, ny+1, int(t_end/dt) + 1)))\n",
    "hm_data = np.zeros(((nx, ny, int(t_end/dt) + 1)))\n",
    "\n",
    "count = 0\n",
    "\n",
    "for t in np.arange(t_start,t_end,dt):\n",
    "    \n",
    "    um_avg = 0.25*(um_old[0:nx, 0:ny-1] + um_old[0:nx, 1:ny] + um_old[1:nx+1, 0:ny-1] + um_old[1:nx+1, 1:ny])\n",
    "    vm_avg = 0.25*(vm_old[0:nx-1, 0:ny] + vm_old[1:nx, 0:ny] + vm_old[0:nx-1, 1:ny+1] + vm_old[1:nx, 1:ny+1])\n",
    "    \n",
    "    if(count == 0):\n",
    "        # Governing equations for interior points\n",
    "        um_new[1:nx, 1:ny-1] = um_old[1:nx, 1:ny-1] - dt*(um_old[1:nx, 1:ny-1] * elr.partial_x_cd(um_old, dx, nx)[1:nx, 1:ny-1] - vm_avg[:, 1:-1] * elr.partial_y_cd(\n",
    "            um_old, dx, nx)[1:nx, 1:ny-1] + f*vm_avg[:, 1:-1] - g * (1/dx) * (hm_old[1:, 1:-1] - hm_old[0:-1, 1:-1]))\n",
    "        vm_new[1:nx-1, 1:ny] = vm_old[1:nx-1, 1:ny] - dt*(um_avg[1:-1, :] * elr.partial_x_cd(vm_old, dy, ny)[1:nx-1, 1:ny] - vm_old[1:nx-1, 1:ny] * elr.partial_y_cd(\n",
    "            vm_old, dy, ny)[1:nx-1, 1:ny] - f*um_avg[1:-1 ,:] - g * (1/dy) * (hm_old[1:-1, 1:] - hm_old[1:-1, 0:-1]))\n",
    "        hm_new[1:nx-1, 1:ny-1] = hm_old[1:nx-1, 1:ny-1] - 0.5*dt*((um_old[1:nx-1,1:ny-1] + um_old[2:nx, 1:ny-1]) * elr.partial_x_cd(\n",
    "            hm_old, dx, nx)[1:nx-1, 1:ny-1] - 0.5 * (vm_old[1:nx-1, 1:ny-1] + vm_old[1:nx-1, 2:ny]) * elr.partial_y_cd(\n",
    "            hm_old, dy, ny)[1:nx-1, 1:ny-1] - 0.5 * hm_old[1:nx-1, 1:ny-1] * (1/dx) * (um_old[2:nx, 1:ny-1] - um_old[1:nx-1, 1:ny-1]) - hm_old[1:nx-1, 1:ny-1] * (1/dy) * (\n",
    "            vm_old[1:nx-1, 2:ny] - vm_old[1:nx-1, 1:ny-1]))\n",
    "    else:\n",
    "        # Governing equations for interior points\n",
    "        um_new[1:nx, 1:ny-1] = um_older[1:nx, 1:ny-1] - 2*dt*(um_old[1:nx, 1:ny-1] * elr.partial_x_cd(um_old, dx, nx)[1:nx, 1:ny-1] - vm_avg[:, 1:-1] * elr.partial_y_cd(\n",
    "            um_old, dx, nx)[1:nx, 1:ny-1] + f*vm_avg[:, 1:-1] - g * (1/dx) * (hm_old[1:, 1:-1] - hm_old[0:-1, 1:-1]))\n",
    "        vm_new[1:nx-1, 1:ny] = vm_older[1:nx-1, 1:ny] - 2*dt*(um_avg[1:-1, :] * elr.partial_x_cd(vm_old, dy, ny)[1:nx-1, 1:ny] - vm_old[1:nx-1, 1:ny] * elr.partial_y_cd(\n",
    "            vm_old, dy, ny)[1:nx-1, 1:ny] - f*um_avg[1:-1 ,:] - g * (1/dy) * (hm_old[1:-1, 1:] - hm_old[1:-1, 0:-1]))\n",
    "        hm_new[1:nx-1, 1:ny-1] = hm_older[1:nx-1, 1:ny-1] - 0.5*2*dt*((um_old[1:nx-1,1:ny-1] + um_old[2:nx, 1:ny-1]) * elr.partial_x_cd(\n",
    "            hm_old, dx, nx)[1:nx-1, 1:ny-1] - 0.5 * (vm_old[1:nx-1, 1:ny-1] + vm_old[1:nx-1, 2:ny]) * elr.partial_y_cd(\n",
    "            hm_old, dy, ny)[1:nx-1, 1:ny-1] - 0.5 * hm_old[1:nx-1, 1:ny-1] * (1/dx) * (um_old[2:nx, 1:ny-1] - um_old[1:nx-1, 1:ny-1]) - hm_old[1:nx-1, 1:ny-1] * (1/dy) * (\n",
    "            vm_old[1:nx-1, 2:ny] - vm_old[1:nx-1, 1:ny-1]))\n",
    "        \n",
    "    # Periodic boundary conditions\n",
    "    um_new[0, :] = um_new[-2, :]\n",
    "    um_new[-1, :] = um_new[1, :]\n",
    "    um_new[:, 0] = um_new[:, -2]\n",
    "    um_new[:, -1] = um_new[:, 1]\n",
    "    \n",
    "    vm_new[:, 0] = vm_new[:, -2]\n",
    "    vm_new[:, -1] = vm_new[:, 1]\n",
    "    vm_new[0, :] = vm_new[-2, :]\n",
    "    vm_new[-1, :] = vm_new[1, :]\n",
    "    \n",
    "    hm_new[0, :] = hm_new[-2, :]\n",
    "    hm_new[-1, :] = hm_new[1, :]\n",
    "    hm_new[:, 0] = hm_new[:, -2]\n",
    "    hm_new[:, -1] = hm_new[:, 1]\n",
    "    \n",
    "    um_data[:, :, int(t/dt)] = um_new\n",
    "    vm_data[:, :, int(t/dt)] = vm_new\n",
    "    hm_data[:, :, int(t/dt)] = hm_new\n",
    "    \n",
    "    hm_older = hm_old\n",
    "    um_older = um_old\n",
    "    vm_older = vm_old\n",
    "    \n",
    "    hm_old = hm_new\n",
    "    um_old = um_new\n",
    "    vm_old = vm_new\n",
    "    \n",
    "    count = count + 1"
   ]
  },
  {
   "cell_type": "code",
   "execution_count": 30,
   "id": "62ac0718-9855-4273-b1fa-06ced4f7a628",
   "metadata": {},
   "outputs": [
    {
     "data": {
      "text/html": [
       "<video src=\"Videos/2D_SWE_Cons_LF_hm.mp4\" controls  >\n",
       "      Your browser does not support the <code>video</code> element.\n",
       "    </video>"
      ],
      "text/plain": [
       "<IPython.core.display.Video object>"
      ]
     },
     "execution_count": 30,
     "metadata": {},
     "output_type": "execute_result"
    }
   ],
   "source": [
    "fig,ax = plt.subplots(figsize = (13,5))\n",
    "\n",
    "def update_fig(i):\n",
    "    \n",
    "    plt.clf()\n",
    "    plt.title('Wave height for time = ' + str(dt*i*10))\n",
    "    p1 = plt.contourf(Xt, Yt, hm_data[:,:,i*10], levels = np.linspace(0.996, 1.004, 21), cmap = 'RdBu')\n",
    "    plt.colorbar()\n",
    "    plt.xlabel('x')\n",
    "    plt.ylabel('y')\n",
    "    return p1\n",
    "\n",
    "num_frames = int(t_end/dt/10)\n",
    "anim = animation.FuncAnimation(fig, update_fig, frames = num_frames, blit = False)\n",
    "anim.save('Videos/2D_SWE_Cons_LF_hm.mp4',writer = 'ffmpeg',fps = 8)\n",
    "\n",
    "plt.close(anim._fig)\n",
    "\n",
    "Video('Videos/2D_SWE_Cons_LF_hm.mp4')"
   ]
  }
 ],
 "metadata": {
  "kernelspec": {
   "display_name": "Python 3",
   "language": "python",
   "name": "python3"
  },
  "language_info": {
   "codemirror_mode": {
    "name": "ipython",
    "version": 3
   },
   "file_extension": ".py",
   "mimetype": "text/x-python",
   "name": "python",
   "nbconvert_exporter": "python",
   "pygments_lexer": "ipython3",
   "version": "3.8.8"
  }
 },
 "nbformat": 4,
 "nbformat_minor": 5
}
