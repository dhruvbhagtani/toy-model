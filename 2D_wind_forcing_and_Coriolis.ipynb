{
 "cells": [
  {
   "cell_type": "code",
   "execution_count": 1,
   "id": "ignored-spirit",
   "metadata": {},
   "outputs": [],
   "source": [
    "import numpy as np\n",
    "import matplotlib.pyplot as plt\n",
    "import sys"
   ]
  },
  {
   "cell_type": "markdown",
   "id": "racial-toner",
   "metadata": {},
   "source": [
    "# Test 1"
   ]
  },
  {
   "cell_type": "markdown",
   "id": "alone-probability",
   "metadata": {},
   "source": [
    "We have a 2D domain with a constant zonal and zero meridional wind stress. We assume that the only non-zero terms in the Navier Stokes equations are the Coriolis and forcing terms. We have analytical solutions for the same, and by performing a numerical simulation for two time steps, we hope to match these results with analytical solutions.\n",
    "\n",
    "The two equations are:\n",
    "\n",
    "$$\\frac{\\partial (u_m h_m)}{\\partial t} = \\frac{\\tau_x}{\\rho_0} + fv_m h_m,$$\n",
    "$$\\frac{\\partial (v_m h_m)}{\\partial t} = \\frac{\\tau_y}{\\rho_0} - fu_m h_m.$$\n",
    "\n",
    "We simulate these equations for two time steps. After doing an initial analysis with t = 20 seconds, $u_m = 1.3 \\times 10^{-5} m/s$ and $v_m = -9.46 \\times 10^{-9} m/s$. These results match the analytical results, so we conclude that the coriolis and wind stress functions are correct."
   ]
  },
  {
   "cell_type": "code",
   "execution_count": 6,
   "id": "frank-mandate",
   "metadata": {},
   "outputs": [],
   "source": [
    "Lx,Ly = 4100,4000\n",
    "nx,ny = 52,50\n",
    "dx,dy = Lx/nx,Ly/ny\n",
    "\n",
    "g = 9.81\n",
    "rho0 = 1025\n",
    "r0 = 6.378*10**6\n",
    "day = 24*60*60 # length of day [seconds]\n",
    "omega = 2*np.pi / day\n",
    "f = 2*omega*np.sin(np.deg2rad(30))\n",
    "\n",
    "xu_ocean = np.linspace(0,Lx,nx,dtype = float)\n",
    "yu_ocean = np.linspace(0,Ly,ny,dtype = float)\n",
    "Y,X = np.meshgrid(yu_ocean,xu_ocean)"
   ]
  },
  {
   "cell_type": "code",
   "execution_count": 14,
   "id": "favorite-compact",
   "metadata": {},
   "outputs": [],
   "source": [
    "tau_x = 0.05*np.ones((nx,ny))\n",
    "tau_y = np.zeros((nx,ny))\n",
    "MLD_0 = -150*np.ones((nx,ny))"
   ]
  },
  {
   "cell_type": "code",
   "execution_count": 15,
   "id": "promotional-model",
   "metadata": {},
   "outputs": [],
   "source": [
    "def forcing_Euler(tau,hm_new):\n",
    "    f3 = tau/(rho0*hm_new)\n",
    "    return f3\n",
    "\n",
    "def cor_Euler(vel,hm_old,hm_new):\n",
    "    f3 = -(1/hm_new)*f*vel*hm_old\n",
    "    return f3"
   ]
  },
  {
   "cell_type": "code",
   "execution_count": 16,
   "id": "blessed-scheme",
   "metadata": {},
   "outputs": [
    {
     "name": "stdout",
     "output_type": "stream",
     "text": [
      "0.0\n",
      "1.0\n"
     ]
    }
   ],
   "source": [
    "um_old = np.zeros((nx,ny))\n",
    "um_new = np.zeros((nx,ny))\n",
    "vm_old = np.zeros((nx,ny))\n",
    "vm_new = np.zeros((nx,ny))\n",
    "hm_old = -MLD_0\n",
    "hm_new = hm_old\n",
    "\n",
    "t_start = 0\n",
    "t_end = 40\n",
    "dt = 20\n",
    "for t in np.arange(t_start,t_end,dt):\n",
    "    um_new = um_old + dt*forcing_Euler(tau_x,hm_new) + dt*cor_Euler(-vm_old,hm_old,hm_new)\n",
    "    vm_new = vm_old + dt*forcing_Euler(tau_y,hm_new) + dt*cor_Euler(um_old,hm_old,hm_new)\n",
    "    \n",
    "    um_old = um_new\n",
    "    vm_old = vm_new\n",
    "    \n",
    "    print(t/dt)"
   ]
  },
  {
   "cell_type": "code",
   "execution_count": 17,
   "id": "literary-standard",
   "metadata": {},
   "outputs": [
    {
     "data": {
      "text/plain": [
       "<matplotlib.colorbar.Colorbar at 0x7fa654cb2430>"
      ]
     },
     "execution_count": 17,
     "metadata": {},
     "output_type": "execute_result"
    },
    {
     "data": {
      "image/png": "[encoded data removed]",
      "text/plain": [
       "<Figure size 432x288 with 2 Axes>"
      ]
     },
     "metadata": {
      "needs_background": "light"
     },
     "output_type": "display_data"
    }
   ],
   "source": [
    "plt.contourf(X,Y,um_new,levels = np.linspace(0,2e-5,11))\n",
    "plt.colorbar()"
   ]
  },
  {
   "cell_type": "code",
   "execution_count": 22,
   "id": "environmental-interpretation",
   "metadata": {},
   "outputs": [
    {
     "data": {
      "text/plain": [
       "<matplotlib.colorbar.Colorbar at 0x7fa655be1850>"
      ]
     },
     "execution_count": 22,
     "metadata": {},
     "output_type": "execute_result"
    },
    {
     "data": {
      "image/png": "[encoded data removed]",
      "text/plain": [
       "<Figure size 432x288 with 2 Axes>"
      ]
     },
     "metadata": {
      "needs_background": "light"
     },
     "output_type": "display_data"
    }
   ],
   "source": [
    "plt.contourf(X,Y,vm_new,levels = np.linspace(-2e-8,0,11))\n",
    "plt.colorbar()"
   ]
  }
 ],
 "metadata": {
  "kernelspec": {
   "display_name": "Python 3",
   "language": "python",
   "name": "python3"
  },
  "language_info": {
   "codemirror_mode": {
    "name": "ipython",
    "version": 3
   },
   "file_extension": ".py",
   "mimetype": "text/x-python",
   "name": "python",
   "nbconvert_exporter": "python",
   "pygments_lexer": "ipython3",
   "version": "3.8.5"
  }
 },
 "nbformat": 4,
 "nbformat_minor": 5
}
